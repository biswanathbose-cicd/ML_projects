{
  "cells": [
    {
      "cell_type": "markdown",
      "metadata": {
        "id": "Q91KqmCRu64D"
      },
      "source": [
        "# **Deep Learning Project: Street View Housing Number Digit Recognition**\n",
        "\n",
        "# **Marks: 60**\n",
        "\n",
        "--------------\n",
        "## **Context**\n",
        "--------------\n",
        "\n",
        "One of the most interesting tasks in deep learning is to recognize objects in natural scenes. The ability to process visual information using machine learning algorithms can be very useful as demonstrated in various applications.\n",
        "\n",
        "The SVHN dataset contains over 600,000 labeled digits cropped from street-level photos. It is one of the most popular image recognition datasets. It has been used in neural networks created by Google to improve the map quality by automatically transcribing the address numbers from a patch of pixels. The transcribed number with a known street address helps pinpoint the location of the building it represents.\n",
        "\n",
        "----------------\n",
        "## **Objective**\n",
        "----------------\n",
        "\n",
        "Our objective is to predict the number depicted inside the image by using Artificial or Fully Connected Feed Forward Neural Networks and Convolutional Neural Networks. We will go through various models of each and finally select the one that is giving us the best performance.\n",
        "\n",
        "-------------\n",
        "## **Dataset**\n",
        "-------------\n",
        "Here, we will use a subset of the original data to save some computation time. The dataset is provided as a .h5 file. The basic preprocessing steps have been applied on the dataset."
      ]
    },
    {
      "cell_type": "markdown",
      "metadata": {
        "id": "8z2Z7-OAs8QG"
      },
      "source": [
        "## **Mount the drive**\n",
        "\n",
        "Let us start by mounting the Google drive. You can run the below cell to mount the Google drive."
      ]
    },
    {
      "cell_type": "code",
      "execution_count": 8,
      "metadata": {
        "colab": {
          "base_uri": "https://localhost:8080/"
        },
        "id": "03lDyQUuef7z",
        "outputId": "27be1223-9ce2-4b36-91ca-c61a71720dd5"
      },
      "outputs": [
        {
          "output_type": "stream",
          "name": "stdout",
          "text": [
            "Mounted at /content/drive\n"
          ]
        }
      ],
      "source": [
        "from google.colab import drive\n",
        "\n",
        "drive.mount('/content/drive')"
      ]
    },
    {
      "cell_type": "markdown",
      "metadata": {
        "id": "C8U3DUa3eNsT"
      },
      "source": [
        "## **Importing the necessary libraries**"
      ]
    },
    {
      "cell_type": "code",
      "execution_count": 9,
      "metadata": {
        "id": "-dVzeuF3eQx1"
      },
      "outputs": [],
      "source": [
        "import numpy as np\n",
        "\n",
        "import pandas as pd\n",
        "\n",
        "import matplotlib.pyplot as plt\n",
        "\n",
        "import seaborn as sns\n",
        "\n",
        "from sklearn.model_selection import train_test_split\n",
        "\n",
        "from sklearn.preprocessing import MinMaxScaler\n",
        "\n",
        "import tensorflow as tf\n",
        "\n",
        "from tensorflow import keras\n",
        "\n",
        "from keras.utils import load_img\n",
        "\n",
        "from keras.layers import Conv2D, MaxPooling2D, BatchNormalization, Dropout, LeakyReLU, Flatten, Dense\n",
        "\n",
        "from keras.models import Sequential\n",
        "\n",
        "from keras.losses import categorical_crossentropy\n",
        "\n",
        "from keras.optimizers import Adam\n",
        "\n",
        "from keras.utils import to_categorical\n",
        "\n",
        "import h5py"
      ]
    },
    {
      "cell_type": "markdown",
      "metadata": {
        "id": "ucnevGLoyKf_"
      },
      "source": [
        "**Let us check the version of tensorflow.**"
      ]
    },
    {
      "cell_type": "code",
      "execution_count": 5,
      "metadata": {
        "colab": {
          "base_uri": "https://localhost:8080/"
        },
        "id": "W5as47YxyJVk",
        "outputId": "45d42aa6-055e-4416-bc7e-722c9a553462"
      },
      "outputs": [
        {
          "output_type": "stream",
          "name": "stdout",
          "text": [
            "2.12.0\n"
          ]
        }
      ],
      "source": [
        "print(tf.__version__)"
      ]
    },
    {
      "cell_type": "markdown",
      "metadata": {
        "id": "8lsux2ZwyTTR"
      },
      "source": [
        "## **Load the dataset**\n",
        "\n",
        "- Let us now load the dataset that is available as a .h5 file.\n",
        "- Split the data into the train and the test dataset."
      ]
    },
    {
      "cell_type": "code",
      "execution_count": 5,
      "metadata": {
        "id": "BApX9qgNsqV0",
        "scrolled": true
      },
      "outputs": [],
      "source": [
        "\n",
        "\n",
        "# Open the file as read only\n",
        "\n",
        "h5f = h5py.File('/content/drive/MyDrive/Python_for_dataScience/SVHN_single_grey1.h5', 'r')\n",
        "\n",
        "# Load the training and the test dataset\n",
        "\n",
        "X_train = h5f['X_train'][:]\n",
        "\n",
        "y_train = h5f['y_train'][:]\n",
        "\n",
        "X_test = h5f['X_test'][:]\n",
        "\n",
        "y_test = h5f['y_test'][:]\n",
        "\n",
        "\n",
        "# Close this file\n",
        "\n",
        "h5f.close()"
      ]
    },
    {
      "cell_type": "markdown",
      "metadata": {
        "id": "hVe0CYpUgj7w"
      },
      "source": [
        "Check the number of images in the training and the testing dataset."
      ]
    },
    {
      "cell_type": "code",
      "execution_count": 6,
      "metadata": {
        "colab": {
          "base_uri": "https://localhost:8080/"
        },
        "id": "y3lwKpOefkpA",
        "outputId": "cc229bd7-a18b-4228-ca7b-f6fac90d7e02"
      },
      "outputs": [
        {
          "output_type": "execute_result",
          "data": {
            "text/plain": [
              "(42000, 18000)"
            ]
          },
          "metadata": {},
          "execution_count": 6
        }
      ],
      "source": [
        "len(X_train), len(X_test)"
      ]
    },
    {
      "cell_type": "markdown",
      "metadata": {
        "id": "akTUOfLlgwoM"
      },
      "source": [
        "**Observation:**  After spliting, there are 42000 images in training data and 18000 images in test data."
      ]
    },
    {
      "cell_type": "markdown",
      "metadata": {
        "id": "kxODV6HKykuc"
      },
      "source": [
        "## **Visualizing images**\n",
        "\n",
        "- Use X_train to visualize the first 10 images.\n",
        "- Use Y_train to print the first 10 labels."
      ]
    },
    {
      "cell_type": "code",
      "execution_count": 7,
      "metadata": {
        "colab": {
          "base_uri": "https://localhost:8080/",
          "height": 119
        },
        "id": "Bvsc8ytHsqWD",
        "outputId": "c952676d-b4d1-436d-9280-6b380c585295"
      },
      "outputs": [
        {
          "output_type": "display_data",
          "data": {
            "text/plain": [
              "<Figure size 1000x100 with 10 Axes>"
            ],
            "image/png": "[encoded data removed]"
          },
          "metadata": {}
        },
        {
          "output_type": "stream",
          "name": "stdout",
          "text": [
            "label for each of the above image: [2 6 7 4 4 0 3 0 7 3]\n"
          ]
        }
      ],
      "source": [
        "plt.figure(figsize = (10, 1))\n",
        "\n",
        "for i in range(10):\n",
        "\n",
        "    plt.subplot(1, 10, i+1)\n",
        "\n",
        "    plt.imshow(X_train[i], cmap = \"gray\")\n",
        "\n",
        "    plt.axis('off')\n",
        "\n",
        "plt.show()\n",
        "\n",
        "print('label for each of the above image: %s' % (y_train[0:10]))"
      ]
    },
    {
      "cell_type": "markdown",
      "metadata": {
        "id": "kzoyeXHOy80N"
      },
      "source": [
        "## **Data preparation**\n",
        "\n",
        "- Print the shape and the array of pixels for the first image in the training dataset.\n",
        "- Normalize the train and the test dataset by dividing by 255.\n",
        "- Print the new shapes of the train and the test dataset.\n",
        "- One-hot encode the target variable."
      ]
    },
    {
      "cell_type": "code",
      "execution_count": 8,
      "metadata": {
        "colab": {
          "base_uri": "https://localhost:8080/"
        },
        "id": "NqndzQXng9rL",
        "outputId": "7a5e88f9-9e84-49b9-e0a7-a8a652a81a53"
      },
      "outputs": [
        {
          "output_type": "stream",
          "name": "stdout",
          "text": [
            "Shape: (32, 32)\n",
            "----------\n",
            "First image:\n",
            " [[ 33.0704  30.2601  26.852  ...  71.4471  58.2204  42.9939]\n",
            " [ 25.2283  25.5533  29.9765 ... 113.0209 103.3639  84.2949]\n",
            " [ 26.2775  22.6137  40.4763 ... 113.3028 121.775  115.4228]\n",
            " ...\n",
            " [ 28.5502  36.212   45.0801 ...  24.1359  25.0927  26.0603]\n",
            " [ 38.4352  26.4733  23.2717 ...  28.1094  29.4683  30.0661]\n",
            " [ 50.2984  26.0773  24.0389 ...  49.6682  50.853   53.0377]]\n"
          ]
        }
      ],
      "source": [
        "# Shape and the array of pixels for the first image\n",
        "\n",
        "print(\"Shape:\", X_train[0].shape)\n",
        "\n",
        "print(\"----------\")\n",
        "\n",
        "print(\"First image:\\n\", X_train[0])"
      ]
    },
    {
      "cell_type": "code",
      "execution_count": 9,
      "metadata": {
        "colab": {
          "base_uri": "https://localhost:8080/",
          "height": 430
        },
        "id": "b1dSP6ZuyUo-",
        "outputId": "031bf846-f5af-4c08-f7e8-91133098c3bd"
      },
      "outputs": [
        {
          "output_type": "display_data",
          "data": {
            "text/plain": [
              "<Figure size 640x480 with 1 Axes>"
            ],
            "image/png": "[encoded data removed]"
          },
          "metadata": {}
        }
      ],
      "source": [
        "# Plot distribution of each category\n",
        "count_plot = sns.countplot(x=y_train)"
      ]
    },
    {
      "cell_type": "markdown",
      "metadata": {
        "id": "XueNeMZsydwF"
      },
      "source": [
        "We observe that the dataset appears to be quite balanced, with each category having approximately the same number of images."
      ]
    },
    {
      "cell_type": "code",
      "execution_count": 10,
      "metadata": {
        "id": "0oi60Yw9zUM7"
      },
      "outputs": [],
      "source": [
        "# Reshaping the dataset to flatten them. We are reshaping the 2D image into 1D array\n",
        "\n",
        "X_train = X_train.reshape(X_train.shape[0], 1024)\n",
        "\n",
        "X_test = X_test.reshape(X_test.shape[0], 1024)"
      ]
    },
    {
      "cell_type": "markdown",
      "metadata": {
        "id": "f4CQkKtQ0XII"
      },
      "source": [
        "### **Normalize the train and the test data**"
      ]
    },
    {
      "cell_type": "code",
      "execution_count": 11,
      "metadata": {
        "id": "q_yUUTp_mUzB"
      },
      "outputs": [],
      "source": [
        "# Normalizing the image pixels\n",
        "X_train = X_train.astype('float32')/255.0\n",
        "X_test = X_test.astype('float32')/255.0"
      ]
    },
    {
      "cell_type": "markdown",
      "metadata": {
        "id": "YSlYN6pb8kMY"
      },
      "source": [
        "Print the shapes of Training and Test data"
      ]
    },
    {
      "cell_type": "code",
      "execution_count": 12,
      "metadata": {
        "colab": {
          "base_uri": "https://localhost:8080/"
        },
        "id": "t7FSqOpamWkH",
        "outputId": "a2254f4e-fcf9-414d-8d74-07975c31b126"
      },
      "outputs": [
        {
          "output_type": "stream",
          "name": "stdout",
          "text": [
            "Training set: (42000, 1024) (42000,)\n",
            "Test set: (18000, 1024) (18000,)\n"
          ]
        }
      ],
      "source": [
        "print('Training set:', X_train.shape, y_train.shape)\n",
        "\n",
        "print('Test set:', X_test.shape, y_test.shape)"
      ]
    },
    {
      "cell_type": "markdown",
      "metadata": {
        "id": "0uLxXBpz81vk"
      },
      "source": [
        "### **One-hot encode output**"
      ]
    },
    {
      "cell_type": "code",
      "execution_count": 13,
      "metadata": {
        "colab": {
          "base_uri": "https://localhost:8080/"
        },
        "id": "zL0lYER4sqWw",
        "outputId": "5b567bc0-9b11-45e3-fea9-8912255ca32f"
      },
      "outputs": [
        {
          "output_type": "execute_result",
          "data": {
            "text/plain": [
              "array([[0., 1., 0., ..., 0., 0., 0.],\n",
              "       [0., 0., 0., ..., 1., 0., 0.],\n",
              "       [0., 0., 1., ..., 0., 0., 0.],\n",
              "       ...,\n",
              "       [0., 0., 0., ..., 1., 0., 0.],\n",
              "       [0., 0., 0., ..., 0., 0., 1.],\n",
              "       [0., 0., 1., ..., 0., 0., 0.]], dtype=float32)"
            ]
          },
          "metadata": {},
          "execution_count": 13
        }
      ],
      "source": [
        "\n",
        "# One-hot encode the target data\n",
        "y_train_one_hot = to_categorical(y_train, num_classes=10)\n",
        "y_test = to_categorical(y_test)\n",
        "\n",
        "y_test"
      ]
    },
    {
      "cell_type": "markdown",
      "metadata": {
        "id": "ViqPOTquCF76"
      },
      "source": [
        "**Observation:** Each entry is one hot encode instead of single label.\n"
      ]
    },
    {
      "cell_type": "markdown",
      "metadata": {
        "id": "yH-gVrzuByNA"
      },
      "source": [
        "## **Model Building**\n",
        "\n",
        "Now that we have done the data preprocessing, let's build an ANN model.\n",
        "\n",
        "### Fix the seed for random number generators"
      ]
    },
    {
      "cell_type": "code",
      "execution_count": 14,
      "metadata": {
        "id": "BcKRwrGn0XIL"
      },
      "outputs": [],
      "source": [
        "# Fixing the seed for random number generators\n",
        "import random\n",
        "np.random.seed(42)\n",
        "random.seed(42)\n",
        "tf.random.set_seed(42)"
      ]
    },
    {
      "cell_type": "markdown",
      "metadata": {
        "id": "UJDUoaEj1d6e"
      },
      "source": [
        "### **Model Architecture**\n",
        "- Write a function that returns a sequential model with the following architecture:\n",
        " - First hidden layer with **64 nodes and the relu activation** and the **input shape = (1024, )**\n",
        " - Second hidden layer with **32 nodes and the relu activation**\n",
        " - Output layer with **activation as 'softmax' and number of nodes equal to the number of classes, i.e., 10**\n",
        " - Compile the model with the **loss equal to categorical_crossentropy, optimizer equal to Adam(learning_rate = 0.001), and metric equal to 'accuracy'**. Do not fit the model here, just return the compiled model.\n",
        "- Call the nn_model_1 function and store the model in a new variable.\n",
        "- Print the summary of the model.\n",
        "- Fit on the train data with a **validation split of 0.2, batch size = 128, verbose = 1, and epochs = 20**. Store the model building history to use later for visualization."
      ]
    },
    {
      "cell_type": "markdown",
      "metadata": {
        "id": "A48z6ucF0XIP"
      },
      "source": [
        "### **Build and train an ANN model as per the above mentioned architecture.**"
      ]
    },
    {
      "cell_type": "code",
      "execution_count": 15,
      "metadata": {
        "id": "Cmi81Gr5sqW-"
      },
      "outputs": [],
      "source": [
        "def nn_model_1():\n",
        "\n",
        "    model = Sequential()\n",
        "\n",
        "    # Add the first hidden layer with 64 nodes, ReLU activation, and input shape\n",
        "    model.add(Dense(64, activation='relu', input_shape=(1024,)))\n",
        "\n",
        "    model.add(Dense(32, activation='relu'))\n",
        "\n",
        "    # Add the output layer with 'softmax' activation and number of nodes equal to the number of classes\n",
        "    model.add(Dense(10, activation='softmax'))\n",
        "\n",
        "    # Compile the model\n",
        "    model.compile(optimizer=Adam(learning_rate=0.001),\n",
        "                  loss='categorical_crossentropy',\n",
        "                  metrics=['accuracy'])\n",
        "\n",
        "    return model\n"
      ]
    },
    {
      "cell_type": "code",
      "execution_count": 16,
      "metadata": {
        "id": "iCroZLM0ggqJ"
      },
      "outputs": [],
      "source": [
        "# Build the model\n",
        "\n",
        "model_1 = nn_model_1()"
      ]
    },
    {
      "cell_type": "code",
      "execution_count": 17,
      "metadata": {
        "colab": {
          "base_uri": "https://localhost:8080/"
        },
        "id": "qGHK9tbDgmWx",
        "outputId": "c59b52ce-3ff9-4990-b20c-43b8601b43c9"
      },
      "outputs": [
        {
          "output_type": "stream",
          "name": "stdout",
          "text": [
            "Model: \"sequential\"\n",
            "_________________________________________________________________\n",
            " Layer (type)                Output Shape              Param #   \n",
            "=================================================================\n",
            " dense (Dense)               (None, 64)                65600     \n",
            "                                                                 \n",
            " dense_1 (Dense)             (None, 32)                2080      \n",
            "                                                                 \n",
            " dense_2 (Dense)             (None, 10)                330       \n",
            "                                                                 \n",
            "=================================================================\n",
            "Total params: 68,010\n",
            "Trainable params: 68,010\n",
            "Non-trainable params: 0\n",
            "_________________________________________________________________\n"
          ]
        }
      ],
      "source": [
        "# Print the summary\n",
        "\n",
        "model_1.summary()"
      ]
    },
    {
      "cell_type": "code",
      "execution_count": 18,
      "metadata": {
        "colab": {
          "base_uri": "https://localhost:8080/"
        },
        "id": "ZawVFXghgtyn",
        "outputId": "48712f6c-c4e5-4eba-81f4-7106c9b81638"
      },
      "outputs": [
        {
          "output_type": "stream",
          "name": "stdout",
          "text": [
            "Epoch 1/20\n",
            "296/296 - 2s - loss: 2.2655 - accuracy: 0.1383 - val_loss: 2.1653 - val_accuracy: 0.2057 - 2s/epoch - 7ms/step\n",
            "Epoch 2/20\n",
            "296/296 - 1s - loss: 2.0000 - accuracy: 0.2897 - val_loss: 1.8664 - val_accuracy: 0.3598 - 1s/epoch - 4ms/step\n",
            "Epoch 3/20\n",
            "296/296 - 1s - loss: 1.8057 - accuracy: 0.3772 - val_loss: 1.7251 - val_accuracy: 0.4212 - 1s/epoch - 4ms/step\n",
            "Epoch 4/20\n",
            "296/296 - 1s - loss: 1.6834 - accuracy: 0.4307 - val_loss: 1.6150 - val_accuracy: 0.4695 - 1s/epoch - 4ms/step\n",
            "Epoch 5/20\n",
            "296/296 - 2s - loss: 1.5835 - accuracy: 0.4715 - val_loss: 1.5208 - val_accuracy: 0.5000 - 2s/epoch - 6ms/step\n",
            "Epoch 6/20\n",
            "296/296 - 2s - loss: 1.4932 - accuracy: 0.5088 - val_loss: 1.4533 - val_accuracy: 0.5352 - 2s/epoch - 6ms/step\n",
            "Epoch 7/20\n",
            "296/296 - 1s - loss: 1.4281 - accuracy: 0.5354 - val_loss: 1.3963 - val_accuracy: 0.5486 - 1s/epoch - 4ms/step\n",
            "Epoch 8/20\n",
            "296/296 - 1s - loss: 1.3790 - accuracy: 0.5589 - val_loss: 1.3670 - val_accuracy: 0.5581 - 1s/epoch - 4ms/step\n",
            "Epoch 9/20\n",
            "296/296 - 1s - loss: 1.3452 - accuracy: 0.5696 - val_loss: 1.3232 - val_accuracy: 0.5795 - 1s/epoch - 4ms/step\n",
            "Epoch 10/20\n",
            "296/296 - 1s - loss: 1.3207 - accuracy: 0.5803 - val_loss: 1.3181 - val_accuracy: 0.5745 - 1s/epoch - 4ms/step\n",
            "Epoch 11/20\n",
            "296/296 - 1s - loss: 1.2849 - accuracy: 0.5921 - val_loss: 1.2800 - val_accuracy: 0.6019 - 1s/epoch - 4ms/step\n",
            "Epoch 12/20\n",
            "296/296 - 1s - loss: 1.2688 - accuracy: 0.5976 - val_loss: 1.2414 - val_accuracy: 0.6150 - 1s/epoch - 4ms/step\n",
            "Epoch 13/20\n",
            "296/296 - 1s - loss: 1.2500 - accuracy: 0.6062 - val_loss: 1.2500 - val_accuracy: 0.6038 - 1s/epoch - 4ms/step\n",
            "Epoch 14/20\n",
            "296/296 - 1s - loss: 1.2354 - accuracy: 0.6107 - val_loss: 1.2395 - val_accuracy: 0.6036 - 1s/epoch - 3ms/step\n",
            "Epoch 15/20\n",
            "296/296 - 1s - loss: 1.2165 - accuracy: 0.6195 - val_loss: 1.2156 - val_accuracy: 0.6240 - 1s/epoch - 4ms/step\n",
            "Epoch 16/20\n",
            "296/296 - 2s - loss: 1.2090 - accuracy: 0.6210 - val_loss: 1.2265 - val_accuracy: 0.6126 - 2s/epoch - 6ms/step\n",
            "Epoch 17/20\n",
            "296/296 - 2s - loss: 1.2036 - accuracy: 0.6217 - val_loss: 1.2264 - val_accuracy: 0.6126 - 2s/epoch - 6ms/step\n",
            "Epoch 18/20\n",
            "296/296 - 1s - loss: 1.1917 - accuracy: 0.6289 - val_loss: 1.1752 - val_accuracy: 0.6388 - 1s/epoch - 4ms/step\n",
            "Epoch 19/20\n",
            "296/296 - 1s - loss: 1.1879 - accuracy: 0.6285 - val_loss: 1.2034 - val_accuracy: 0.6324 - 1s/epoch - 4ms/step\n",
            "Epoch 20/20\n",
            "296/296 - 1s - loss: 1.1755 - accuracy: 0.6337 - val_loss: 1.2207 - val_accuracy: 0.6119 - 1s/epoch - 4ms/step\n"
          ]
        }
      ],
      "source": [
        "# Fit the model\n",
        "\n",
        "history_model_1 = model_1.fit(X_train, y_train_one_hot,\n",
        "            epochs=20,\n",
        "            validation_split=0.1,\n",
        "            shuffle=True,\n",
        "            batch_size=128,\n",
        "            verbose=2)"
      ]
    },
    {
      "cell_type": "markdown",
      "metadata": {
        "id": "MeF8XSWz0XIU"
      },
      "source": [
        "### **Plot the Training and Validation Accuracies and write down your Observations.**"
      ]
    },
    {
      "cell_type": "markdown",
      "metadata": {
        "id": "pGBbQpLONX7k"
      },
      "source": [
        "**Observations:_______\n",
        "\n",
        "**Loss and Accuracy Trends:**\n",
        "\n",
        "The training loss decreases, and the training accuracy increases as the number of epochs progresses. This suggests that the model is learning from the training data.\n",
        "Validation Performance:\n",
        "\n",
        "The validation loss and accuracy follow a similar trend, improving over epochs. However, there is a slight increase in validation loss around epoch 14, which may indicate a potential point of overfitting or a challenging part of the dataset.\n",
        "Model Overfitting:\n",
        "\n",
        "The model may start to overfit the training data as the number of epochs increases, as suggested by the potential divergence between training and validation performance.\n",
        "Training Time:\n",
        "\n",
        "The training time per epoch varies but generally takes a few seconds. It's essential to consider the trade-off between training time and model performance.\n",
        "Validation Accuracy Plateau:\n",
        "\n",
        "The validation accuracy seems to plateau around epoch 15, suggesting that further training may not significantly improve performance on the validation set.\n",
        "\n",
        "**Potential Improvements:**\n",
        "\n",
        "Consider incorporating regularization techniques such as dropout to mitigate overfitting. Additionally, fine-tune hyperparameters, adjust the model architecture, or try different optimization strategies to improve performance.\n",
        "Class Imbalance:\n",
        "\n",
        "Assess if there is a class imbalance in the dataset, as it may impact the model's ability to learn certain patterns.\n",
        "Model Complexity:\n",
        "\n",
        "\n",
        "**Further Evaluation:**\n",
        "\n",
        "Evaluate the model on a separate test set to get a more unbiased assessment of its generalization performance.\n",
        "Early Stopping:\n",
        "\n",
        "Consider implementing early stopping to halt training when the model's performance on the validation set stops improving, preventing overfitting."
      ]
    },
    {
      "cell_type": "markdown",
      "metadata": {
        "id": "z0qgLMBZm5-K"
      },
      "source": [
        "Let's build one more model with higher complexity and see if we can improve the performance of the model.\n",
        "\n",
        "First, we need to clear the previous model's history from the Keras backend. Also, let's fix the seed again after clearing the backend."
      ]
    },
    {
      "cell_type": "code",
      "execution_count": 19,
      "metadata": {
        "colab": {
          "base_uri": "https://localhost:8080/",
          "height": 696
        },
        "id": "I_ih3wEU9wIk",
        "outputId": "98f76c48-d51a-48ee-8cef-5b1a117ec11e"
      },
      "outputs": [
        {
          "output_type": "display_data",
          "data": {
            "text/plain": [
              "<Figure size 800x800 with 1 Axes>"
            ],
            "image/png": "[encoded data removed]"
          },
          "metadata": {}
        }
      ],
      "source": [
        "# Plotting the accuracies\n",
        "\n",
        "dict_hist = history_model_1.history\n",
        "\n",
        "list_ep = [i for i in range(1, 21)]\n",
        "\n",
        "plt.figure(figsize = (8, 8))\n",
        "\n",
        "plt.plot(list_ep, dict_hist['accuracy'], ls = '--', label = 'accuracy')\n",
        "\n",
        "plt.plot(list_ep, dict_hist['val_accuracy'], ls = '--', label = 'val_accuracy')\n",
        "\n",
        "plt.ylabel('Accuracy')\n",
        "\n",
        "plt.xlabel('Epochs')\n",
        "\n",
        "plt.legend()\n",
        "\n",
        "plt.show()"
      ]
    },
    {
      "cell_type": "code",
      "execution_count": 20,
      "metadata": {
        "id": "azZVlhvVEWyG"
      },
      "outputs": [],
      "source": [
        "# Clearing backend\n",
        "\n",
        "from keras import backend\n",
        "\n",
        "backend.clear_session()"
      ]
    },
    {
      "cell_type": "code",
      "execution_count": 21,
      "metadata": {
        "id": "XJniLWMCEWpW"
      },
      "outputs": [],
      "source": [
        "# Fixing the seed for random number generators\n",
        "\n",
        "np.random.seed(42)\n",
        "\n",
        "import random\n",
        "\n",
        "random.seed(42)\n",
        "\n",
        "tf.random.set_seed(42)"
      ]
    },
    {
      "cell_type": "markdown",
      "metadata": {
        "id": "lT6o3TIKuCtk"
      },
      "source": [
        "### **Second Model Architecture**\n",
        "- Write a function that returns a sequential model with the following architecture:\n",
        " - First hidden layer with **256 nodes and the relu activation** and the **input shape = (1024, )**\n",
        " - Second hidden layer with **128 nodes and the relu activation**\n",
        " - Add the **Dropout layer with the rate equal to 0.2**\n",
        " - Third hidden layer with **64 nodes and the relu activation**\n",
        " - Fourth hidden layer with **64 nodes and the relu activation**\n",
        " - Fifth hidden layer with **32 nodes and the relu activation**\n",
        " - Add the **BatchNormalization layer**\n",
        " - Output layer with **activation as 'softmax' and number of nodes equal to the number of classes, i.e., 10**\n",
        " -Compile the model with the **loss equal to categorical_crossentropy, optimizer equal to Adam(learning_rate = 0.0005), and metric equal to 'accuracy'**. Do not fit the model here, just return the compiled model.\n",
        "- Call the nn_model_2 function and store the model in a new variable.\n",
        "- Print the summary of the model.\n",
        "- Fit on the train data with a **validation split of 0.2, batch size = 128, verbose = 1, and epochs = 30**. Store the model building history to use later for visualization."
      ]
    },
    {
      "cell_type": "markdown",
      "metadata": {
        "id": "f-ZjNBmH0XIV"
      },
      "source": [
        "### **Build and train the new ANN model as per the above mentioned architecture**"
      ]
    },
    {
      "cell_type": "code",
      "execution_count": 22,
      "metadata": {
        "id": "EEPYLFIPnSDP"
      },
      "outputs": [],
      "source": [
        "def nn_model_2():\n",
        "\n",
        "    model = Sequential()\n",
        "\n",
        "    # Add the first hidden layer with 64 nodes, ReLU activation, and input shape\n",
        "    model.add(Dense(256, activation='relu', input_shape=(1024,)))\n",
        "\n",
        "    model.add(Dense(128, activation='relu'))\n",
        "\n",
        "    # Add a Dropout layer with a dropout rate of 0.2\n",
        "    model.add(Dropout(0.2))\n",
        "\n",
        "    model.add(Dense(64, activation='relu'))\n",
        "    model.add(Dense(64, activation='relu'))\n",
        "    model.add(Dense(32, activation='relu'))\n",
        "\n",
        "    model.add(BatchNormalization())\n",
        "\n",
        "    # Add the output layer with 'softmax' activation and number of nodes equal to the number of classes\n",
        "    model.add(Dense(10, activation='softmax'))\n",
        "\n",
        "    # Compile the model\n",
        "    model.compile(optimizer=Adam(learning_rate=0.0005),\n",
        "                  loss='categorical_crossentropy',\n",
        "                  metrics=['accuracy'])\n",
        "\n",
        "    return model\n"
      ]
    },
    {
      "cell_type": "code",
      "execution_count": 23,
      "metadata": {
        "id": "og3kdsTuF0RU"
      },
      "outputs": [],
      "source": [
        "# Build the model\n",
        "\n",
        "model_2 = nn_model_2()"
      ]
    },
    {
      "cell_type": "code",
      "execution_count": 24,
      "metadata": {
        "colab": {
          "base_uri": "https://localhost:8080/"
        },
        "id": "ZfiG3bY0GCkh",
        "outputId": "b097f676-1dd7-44a9-9565-dbdce7bde71a"
      },
      "outputs": [
        {
          "output_type": "stream",
          "name": "stdout",
          "text": [
            "Model: \"sequential\"\n",
            "_________________________________________________________________\n",
            " Layer (type)                Output Shape              Param #   \n",
            "=================================================================\n",
            " dense (Dense)               (None, 256)               262400    \n",
            "                                                                 \n",
            " dense_1 (Dense)             (None, 128)               32896     \n",
            "                                                                 \n",
            " dropout (Dropout)           (None, 128)               0         \n",
            "                                                                 \n",
            " dense_2 (Dense)             (None, 64)                8256      \n",
            "                                                                 \n",
            " dense_3 (Dense)             (None, 64)                4160      \n",
            "                                                                 \n",
            " dense_4 (Dense)             (None, 32)                2080      \n",
            "                                                                 \n",
            " batch_normalization (BatchN  (None, 32)               128       \n",
            " ormalization)                                                   \n",
            "                                                                 \n",
            " dense_5 (Dense)             (None, 10)                330       \n",
            "                                                                 \n",
            "=================================================================\n",
            "Total params: 310,250\n",
            "Trainable params: 310,186\n",
            "Non-trainable params: 64\n",
            "_________________________________________________________________\n"
          ]
        }
      ],
      "source": [
        "# Print the summary\n",
        "\n",
        "model_2.summary()"
      ]
    },
    {
      "cell_type": "code",
      "execution_count": 25,
      "metadata": {
        "colab": {
          "base_uri": "https://localhost:8080/"
        },
        "id": "4QA6QfpEGMFV",
        "outputId": "486ea34f-8e7a-4cfa-e104-9455a6ddb090"
      },
      "outputs": [
        {
          "output_type": "stream",
          "name": "stdout",
          "text": [
            "Epoch 1/30\n",
            "263/263 [==============================] - 5s 16ms/step - loss: 2.3265 - accuracy: 0.1014 - val_loss: 2.3046 - val_accuracy: 0.1007\n",
            "Epoch 2/30\n",
            "263/263 [==============================] - 3s 11ms/step - loss: 2.2252 - accuracy: 0.1473 - val_loss: 2.1349 - val_accuracy: 0.1952\n",
            "Epoch 3/30\n",
            "263/263 [==============================] - 3s 10ms/step - loss: 1.7732 - accuracy: 0.3632 - val_loss: 1.6661 - val_accuracy: 0.4623\n",
            "Epoch 4/30\n",
            "263/263 [==============================] - 3s 10ms/step - loss: 1.4262 - accuracy: 0.5169 - val_loss: 1.2803 - val_accuracy: 0.5848\n",
            "Epoch 5/30\n",
            "263/263 [==============================] - 3s 10ms/step - loss: 1.2593 - accuracy: 0.5840 - val_loss: 1.1318 - val_accuracy: 0.6371\n",
            "Epoch 6/30\n",
            "263/263 [==============================] - 4s 15ms/step - loss: 1.1647 - accuracy: 0.6206 - val_loss: 1.1559 - val_accuracy: 0.6236\n",
            "Epoch 7/30\n",
            "263/263 [==============================] - 3s 10ms/step - loss: 1.1022 - accuracy: 0.6430 - val_loss: 1.0387 - val_accuracy: 0.6737\n",
            "Epoch 8/30\n",
            "263/263 [==============================] - 3s 10ms/step - loss: 1.0592 - accuracy: 0.6595 - val_loss: 0.9999 - val_accuracy: 0.6807\n",
            "Epoch 9/30\n",
            "263/263 [==============================] - 3s 10ms/step - loss: 1.0319 - accuracy: 0.6710 - val_loss: 0.9623 - val_accuracy: 0.6969\n",
            "Epoch 10/30\n",
            "263/263 [==============================] - 3s 13ms/step - loss: 0.9798 - accuracy: 0.6885 - val_loss: 0.9955 - val_accuracy: 0.6873\n",
            "Epoch 11/30\n",
            "263/263 [==============================] - 3s 13ms/step - loss: 0.9610 - accuracy: 0.6949 - val_loss: 0.8896 - val_accuracy: 0.7257\n",
            "Epoch 12/30\n",
            "263/263 [==============================] - 3s 10ms/step - loss: 0.9340 - accuracy: 0.7046 - val_loss: 0.9666 - val_accuracy: 0.6933\n",
            "Epoch 13/30\n",
            "263/263 [==============================] - 5s 19ms/step - loss: 0.9133 - accuracy: 0.7100 - val_loss: 0.8661 - val_accuracy: 0.7290\n",
            "Epoch 14/30\n",
            "263/263 [==============================] - 4s 15ms/step - loss: 0.8912 - accuracy: 0.7160 - val_loss: 0.8392 - val_accuracy: 0.7387\n",
            "Epoch 15/30\n",
            "263/263 [==============================] - 3s 12ms/step - loss: 0.8854 - accuracy: 0.7208 - val_loss: 0.8581 - val_accuracy: 0.7326\n",
            "Epoch 16/30\n",
            "263/263 [==============================] - 3s 10ms/step - loss: 0.8546 - accuracy: 0.7315 - val_loss: 0.9006 - val_accuracy: 0.7121\n",
            "Epoch 17/30\n",
            "263/263 [==============================] - 3s 10ms/step - loss: 0.8451 - accuracy: 0.7314 - val_loss: 0.8292 - val_accuracy: 0.7380\n",
            "Epoch 18/30\n",
            "263/263 [==============================] - 3s 10ms/step - loss: 0.8245 - accuracy: 0.7399 - val_loss: 0.8221 - val_accuracy: 0.7399\n",
            "Epoch 19/30\n",
            "263/263 [==============================] - 4s 16ms/step - loss: 0.8205 - accuracy: 0.7404 - val_loss: 0.8062 - val_accuracy: 0.7470\n",
            "Epoch 20/30\n",
            "263/263 [==============================] - 3s 10ms/step - loss: 0.8052 - accuracy: 0.7464 - val_loss: 0.7593 - val_accuracy: 0.7664\n",
            "Epoch 21/30\n",
            "263/263 [==============================] - 3s 10ms/step - loss: 0.7944 - accuracy: 0.7475 - val_loss: 0.7751 - val_accuracy: 0.7589\n",
            "Epoch 22/30\n",
            "263/263 [==============================] - 3s 10ms/step - loss: 0.7855 - accuracy: 0.7498 - val_loss: 0.7708 - val_accuracy: 0.7531\n",
            "Epoch 23/30\n",
            "263/263 [==============================] - 3s 13ms/step - loss: 0.7783 - accuracy: 0.7527 - val_loss: 0.7938 - val_accuracy: 0.7510\n",
            "Epoch 24/30\n",
            "263/263 [==============================] - 3s 13ms/step - loss: 0.7559 - accuracy: 0.7628 - val_loss: 0.7277 - val_accuracy: 0.7773\n",
            "Epoch 25/30\n",
            "263/263 [==============================] - 3s 10ms/step - loss: 0.7489 - accuracy: 0.7610 - val_loss: 0.7504 - val_accuracy: 0.7650\n",
            "Epoch 26/30\n",
            "263/263 [==============================] - 3s 10ms/step - loss: 0.7448 - accuracy: 0.7628 - val_loss: 0.7589 - val_accuracy: 0.7665\n",
            "Epoch 27/30\n",
            "263/263 [==============================] - 3s 10ms/step - loss: 0.7440 - accuracy: 0.7635 - val_loss: 0.7946 - val_accuracy: 0.7525\n",
            "Epoch 28/30\n",
            "263/263 [==============================] - 4s 15ms/step - loss: 0.7326 - accuracy: 0.7680 - val_loss: 0.7967 - val_accuracy: 0.7496\n",
            "Epoch 29/30\n",
            "263/263 [==============================] - 3s 12ms/step - loss: 0.7273 - accuracy: 0.7686 - val_loss: 0.7298 - val_accuracy: 0.7808\n",
            "Epoch 30/30\n",
            "263/263 [==============================] - 3s 10ms/step - loss: 0.7138 - accuracy: 0.7760 - val_loss: 0.7422 - val_accuracy: 0.7689\n"
          ]
        }
      ],
      "source": [
        "# Fit the model\n",
        "\n",
        "history_model_2 = model_2.fit(X_train, y_train_one_hot,\n",
        "            epochs=30,\n",
        "            validation_split=0.2,\n",
        "            shuffle=True,\n",
        "            batch_size=128,\n",
        "            verbose=1)"
      ]
    },
    {
      "cell_type": "markdown",
      "metadata": {
        "id": "ZJYsvjmw0XIX"
      },
      "source": [
        "### **Plot the Training and Validation Accuracies and write down your Observations.**"
      ]
    },
    {
      "cell_type": "code",
      "execution_count": 26,
      "metadata": {
        "colab": {
          "base_uri": "https://localhost:8080/",
          "height": 696
        },
        "id": "01ig6BrF1KVy",
        "outputId": "916213c2-6f54-474a-b7b4-fed0ffea60b0"
      },
      "outputs": [
        {
          "output_type": "display_data",
          "data": {
            "text/plain": [
              "<Figure size 800x800 with 1 Axes>"
            ],
            "image/png": "[encoded data removed]"
          },
          "metadata": {}
        }
      ],
      "source": [
        "# Plotting the accuracies\n",
        "\n",
        "dict_hist = history_model_2.history\n",
        "\n",
        "list_ep = [i for i in range(1, 31)]\n",
        "\n",
        "plt.figure(figsize = (8, 8))\n",
        "\n",
        "plt.plot(list_ep, dict_hist['accuracy'], ls = '--', label = 'accuracy')\n",
        "\n",
        "plt.plot(list_ep, dict_hist['val_accuracy'], ls = '--', label = 'val_accuracy')\n",
        "\n",
        "plt.ylabel('Accuracy')\n",
        "\n",
        "plt.xlabel('Epochs')\n",
        "\n",
        "plt.legend()\n",
        "\n",
        "plt.show()"
      ]
    },
    {
      "cell_type": "markdown",
      "metadata": {
        "id": "VPW1LlD61RDn"
      },
      "source": [
        "**Observations:_______**\n",
        "\n",
        "**Initial Performance:**\n",
        "\n",
        "The initial accuracy on both training and validation sets is low (around 10-15%), indicating that the model is making predictions close to random at the beginning.\n",
        "Improvement Over Epochs:\n",
        "\n",
        "As the number of epochs progresses, there is a notable improvement in both training and validation accuracy. The model is learning from the data and adjusting its weights to make better predictions.\n",
        "Training Loss and Accuracy:\n",
        "\n",
        "The training loss decreases, and training accuracy increases with each epoch. This indicates that the model is successfully minimizing the loss on the training set and improving its ability to correctly classify examples from the training data.\n",
        "Validation Performance:\n",
        "\n",
        "The validation accuracy also improves over epochs, reaching around 76-78% accuracy by the end of training. This suggests that the model is generalizing well to the unseen validation data.\n",
        "Potential Overfitting:\n",
        "\n",
        "There is a small gap between the training and validation accuracies, which may indicate a slight overfitting tendency. Monitoring this gap and implementing techniques like dropout or early stopping could help mitigate overfitting.\n",
        "Training Time:\n",
        "\n",
        "The training time per epoch is relatively short, which is beneficial for faster model development and experimentation.\n",
        "Sudden Increase in Validation Loss:\n",
        "\n",
        "There is a spike in validation loss around epoch 24, which might be an indication of the model struggling to generalize well on certain examples. This could be addressed through further analysis of the validation set or model adjustments.\n",
        "Model Convergence:\n",
        "\n",
        "The model seems to be converging to a certain level of performance, and additional epochs may not significantly improve accuracy. Consider stopping training or implementing early stopping to avoid unnecessary computation.\n",
        "\n",
        "**Hyperparameter Tuning:**\n",
        "\n",
        "Depending on the results and available resources, you may explore hyperparameter tuning to find the optimal learning rate, batch size, or other parameters that could further enhance model performance.\n",
        "Evaluation on Test Set:\n",
        "\n",
        "After training, it's essential to evaluate the model on a separate test set to assess its performance on unseen data and ensure generalization.\n",
        "\n",
        "Overall, the model is making progress, but further refinement, tuning, and analysis may be beneficial for achieving better performance."
      ]
    },
    {
      "cell_type": "markdown",
      "metadata": {
        "id": "8kuXx9Bvu00f"
      },
      "source": [
        "## **Predictions on the test data**\n",
        "\n",
        "- Make predictions on the test set using the second model.\n",
        "- Print the obtained results using the classification report and the confusion matrix.\n",
        "- Final observations on the obtained results."
      ]
    },
    {
      "cell_type": "code",
      "execution_count": 27,
      "metadata": {
        "colab": {
          "base_uri": "https://localhost:8080/"
        },
        "id": "xbWMEtTj5Ad0",
        "outputId": "e4afae04-78e6-4465-919d-40f671db6f32"
      },
      "outputs": [
        {
          "output_type": "stream",
          "name": "stdout",
          "text": [
            "563/563 [==============================] - 2s 2ms/step\n"
          ]
        }
      ],
      "source": [
        "test_pred = model_2.predict(X_test)\n",
        "\n",
        "test_pred = np.argmax(test_pred, axis = -1)"
      ]
    },
    {
      "cell_type": "markdown",
      "metadata": {
        "id": "i3li8Ib08yts"
      },
      "source": [
        "**Note:** Earlier, we noticed that each entry of the target variable is a one-hot encoded vector but to print the classification report and confusion matrix, we must convert each entry of y_test to a single label."
      ]
    },
    {
      "cell_type": "code",
      "execution_count": 28,
      "metadata": {
        "id": "NByu7uAQ8x9P"
      },
      "outputs": [],
      "source": [
        "# Converting each entry to single label from one-hot encoded vector\n",
        "\n",
        "y_test = np.argmax(y_test, axis = -1)"
      ]
    },
    {
      "cell_type": "markdown",
      "metadata": {
        "id": "1_SIoopr0XIg"
      },
      "source": [
        "### **Print the classification report and the confusion matrix for the test predictions. Write your observations on the final results.**"
      ]
    },
    {
      "cell_type": "code",
      "execution_count": 29,
      "metadata": {
        "colab": {
          "base_uri": "https://localhost:8080/",
          "height": 754
        },
        "id": "xRddeJ-3EHT1",
        "outputId": "e175179d-a538-4437-fc88-448e1720d050"
      },
      "outputs": [
        {
          "output_type": "stream",
          "name": "stdout",
          "text": [
            "              precision    recall  f1-score   support\n",
            "\n",
            "           0       0.85      0.77      0.81      1814\n",
            "           1       0.79      0.76      0.78      1828\n",
            "           2       0.74      0.82      0.78      1803\n",
            "           3       0.71      0.73      0.72      1719\n",
            "           4       0.80      0.84      0.82      1812\n",
            "           5       0.72      0.75      0.73      1768\n",
            "           6       0.77      0.78      0.78      1832\n",
            "           7       0.82      0.77      0.79      1808\n",
            "           8       0.68      0.75      0.72      1812\n",
            "           9       0.81      0.71      0.76      1804\n",
            "\n",
            "    accuracy                           0.77     18000\n",
            "   macro avg       0.77      0.77      0.77     18000\n",
            "weighted avg       0.77      0.77      0.77     18000\n",
            "\n"
          ]
        },
        {
          "output_type": "display_data",
          "data": {
            "text/plain": [
              "<Figure size 800x500 with 2 Axes>"
            ],
            "image/png": "[encoded data removed]"
          },
          "metadata": {}
        }
      ],
      "source": [
        "# Importing required functions\n",
        "\n",
        "from sklearn.metrics import classification_report\n",
        "\n",
        "from sklearn.metrics import confusion_matrix\n",
        "\n",
        "# Printing the classification report\n",
        "\n",
        "print(classification_report(y_test, test_pred))\n",
        "\n",
        "# Plotting the heatmap using confusion matrix\n",
        "\n",
        "cm = tf.math.confusion_matrix(y_test,test_pred)    #Write the code for creating confusion matrix using actual labels (y_test) and predicted labels (test_pred)\n",
        "\n",
        "plt.figure(figsize = (8, 5))\n",
        "\n",
        "sns.heatmap(cm, annot = True,  fmt = '.0f')\n",
        "\n",
        "plt.ylabel('Actual')\n",
        "\n",
        "plt.xlabel('Predicted')\n",
        "\n",
        "plt.show()"
      ]
    },
    {
      "cell_type": "markdown",
      "metadata": {
        "id": "DjErl4GA2u9s"
      },
      "source": [
        "**Final Observations:__________**\n",
        "\n",
        "**Class-specific Performance:**\n",
        "\n",
        "**Precision:** Represents the accuracy of the positive predictions for each class. High precision values (close to 1) indicate that the model has fewer false positives.\n",
        "\n",
        "**Recall:** Indicates the ability of the model to capture all the true positive instances of each class. High recall values (close to 1) suggest that the model is effectively identifying positive instances.\n",
        "\n",
        "**F1-score:** Harmonic mean of precision and recall. It provides a balanced measure that considers both false positives and false negatives.\n",
        "\n",
        "**Class-wise Analysis:**\n",
        "\n",
        "Class 0, 4, 7, and 9 have relatively high precision, recall, and F1-score, suggesting good performance on these classes.\n",
        "Class 2, 6, and 8 have balanced precision and recall values.\n",
        "Class 3 and 5 have slightly lower precision and recall, indicating some difficulty in correctly classifying instances of these classes.\n",
        "Macro and Weighted Averages:\n",
        "\n",
        "**Macro Avg:** The unweighted average of precision, recall, and F1-score across all classes. It treats all classes equally.\n",
        "Weighted Avg: Takes into account the imbalance in class sizes. Classes with more instances have a greater impact on the average.\n",
        "Overall Accuracy:\n",
        "\n",
        "The overall accuracy of the model is approximately 77%. It represents the proportion of correctly classified instances over all classes.\n",
        "General Observations:\n",
        "\n",
        "The model performs well on certain classes (0, 4, 7, 9) and less optimally on others (3, 5).\n",
        "Consider further analysis, such as examining misclassified instances or exploring feature importance, to gain insights into potential improvements.\n",
        "Class Imbalance:\n",
        "\n",
        "Check for class imbalances, as it can influence performance metrics. Classes with more instances may dominate the overall performance.\n",
        "Model Evaluation:\n",
        "\n",
        "While precision, recall, and F1-score provide valuable insights, consider the specific requirements of your application to determine the most relevant metric for model evaluation."
      ]
    },
    {
      "cell_type": "markdown",
      "metadata": {
        "id": "xkR4JioMsuIV"
      },
      "source": [
        "## **Using Convolutional Neural Networks**"
      ]
    },
    {
      "cell_type": "markdown",
      "metadata": {
        "id": "YN2YgkGL_6xQ"
      },
      "source": [
        "### **Load the dataset again and split the data into the train and the test dataset.**"
      ]
    },
    {
      "cell_type": "code",
      "execution_count": 19,
      "metadata": {
        "id": "mqM204HbAjP2",
        "scrolled": true
      },
      "outputs": [],
      "source": [
        "# Open the file as read only\n",
        "\n",
        "h5f = h5py.File('/content/drive/MyDrive/Python_for_dataScience/SVHN_single_grey1.h5', 'r')\n",
        "\n",
        "X_train = h5f['X_train'][:]\n",
        "\n",
        "y_train = h5f['y_train'][:]\n",
        "\n",
        "X_test = h5f['X_test'][:]\n",
        "\n",
        "y_test = h5f['y_test'][:]\n",
        "\n",
        "\n",
        "# Close this file\n",
        "\n",
        "h5f.close()"
      ]
    },
    {
      "cell_type": "markdown",
      "metadata": {
        "id": "6fPqF_xGAjQB"
      },
      "source": [
        "Check the number of images in the training and the testing dataset."
      ]
    },
    {
      "cell_type": "code",
      "execution_count": 20,
      "metadata": {
        "colab": {
          "base_uri": "https://localhost:8080/"
        },
        "id": "gTLJZWjPAjQB",
        "outputId": "42c3ceb0-741e-4216-dea4-1e1090668f18"
      },
      "outputs": [
        {
          "output_type": "execute_result",
          "data": {
            "text/plain": [
              "(42000, 18000)"
            ]
          },
          "metadata": {},
          "execution_count": 20
        }
      ],
      "source": [
        "len(X_train), len(X_test)"
      ]
    },
    {
      "cell_type": "markdown",
      "metadata": {
        "id": "9qyMiP_rAjQB"
      },
      "source": [
        "**Observation:**\n",
        "\n",
        "There are 42,000 images in the training data set and 18,000 images in the testing data set."
      ]
    },
    {
      "cell_type": "markdown",
      "metadata": {
        "id": "OJndFfEVAjQG"
      },
      "source": [
        "## **Data preparation**\n",
        "\n",
        "- Print the shape and the array of pixels for the first image in the training dataset.\n",
        "- Reshape the train and the test dataset because we always have to give a 4D array as input to CNNs.\n",
        "- Normalize the train and the test dataset by dividing by 255.\n",
        "- Print the new shapes of the train and the test dataset.\n",
        "- One-hot encode the target variable."
      ]
    },
    {
      "cell_type": "code",
      "execution_count": 21,
      "metadata": {
        "colab": {
          "base_uri": "https://localhost:8080/"
        },
        "id": "W4uXqKz1AjQG",
        "outputId": "c181dba3-4276-4999-8d78-c2b94b31e843"
      },
      "outputs": [
        {
          "output_type": "stream",
          "name": "stdout",
          "text": [
            "Shape:\n",
            " (32, 32)\n",
            "First image:\n",
            " [[ 33.0704  30.2601  26.852  ...  71.4471  58.2204  42.9939]\n",
            " [ 25.2283  25.5533  29.9765 ... 113.0209 103.3639  84.2949]\n",
            " [ 26.2775  22.6137  40.4763 ... 113.3028 121.775  115.4228]\n",
            " ...\n",
            " [ 28.5502  36.212   45.0801 ...  24.1359  25.0927  26.0603]\n",
            " [ 38.4352  26.4733  23.2717 ...  28.1094  29.4683  30.0661]\n",
            " [ 50.2984  26.0773  24.0389 ...  49.6682  50.853   53.0377]]\n"
          ]
        }
      ],
      "source": [
        "print(\"Shape:\\n\",X_train[0].shape)\n",
        "\n",
        "print(\"First image:\\n\", X_train[0])"
      ]
    },
    {
      "cell_type": "markdown",
      "metadata": {
        "id": "at30iiX1__7F"
      },
      "source": [
        "Reshape the dataset to be able to pass them to CNNs. Remember that we always have to give a 4D array as input to CNNs"
      ]
    },
    {
      "cell_type": "code",
      "execution_count": 22,
      "metadata": {
        "id": "D9YPwf9ysqWU"
      },
      "outputs": [],
      "source": [
        "X_train = X_train.reshape(X_train.shape[0], 32, 32, 1)\n",
        "\n",
        "X_test = X_test.reshape(X_test.shape[0], 32, 32, 1)"
      ]
    },
    {
      "cell_type": "markdown",
      "metadata": {
        "id": "ODYnoLfaAEGx"
      },
      "source": [
        "Normalize inputs from 0-255 to 0-1"
      ]
    },
    {
      "cell_type": "code",
      "execution_count": 23,
      "metadata": {
        "id": "eOGLAn40AjQG"
      },
      "outputs": [],
      "source": [
        "# Normalize inputs from 0-255 to 0-1\n",
        "\n",
        "X_train = X_train / 255.0\n",
        "\n",
        "X_test = X_test / 255.0"
      ]
    },
    {
      "cell_type": "markdown",
      "metadata": {
        "id": "cS9T4HqjAoyM"
      },
      "source": [
        "Print New shape of Training and Test"
      ]
    },
    {
      "cell_type": "code",
      "execution_count": 24,
      "metadata": {
        "colab": {
          "base_uri": "https://localhost:8080/"
        },
        "id": "5qf8S5NQAjQG",
        "outputId": "084af6b6-d65c-494f-9d09-12ff968c6f28"
      },
      "outputs": [
        {
          "output_type": "stream",
          "name": "stdout",
          "text": [
            "Training set: (42000, 32, 32, 1) (42000,)\n",
            "Test set: (18000, 32, 32, 1) (18000,)\n"
          ]
        }
      ],
      "source": [
        "# New shape\n",
        "\n",
        "print('Training set:', X_train.shape, y_train.shape)\n",
        "\n",
        "print('Test set:', X_test.shape, y_test.shape)"
      ]
    },
    {
      "cell_type": "markdown",
      "metadata": {
        "id": "10QaOV-xR7Jn"
      },
      "source": [
        "### **One-hot encode the labels in the target variable y_train and y_test.**"
      ]
    },
    {
      "cell_type": "code",
      "execution_count": 25,
      "metadata": {
        "colab": {
          "base_uri": "https://localhost:8080/"
        },
        "id": "3KHWFWKMAjQH",
        "outputId": "d36c2e6a-85b0-4eef-d364-05c2dba9771b"
      },
      "outputs": [
        {
          "output_type": "execute_result",
          "data": {
            "text/plain": [
              "array([[0., 1., 0., ..., 0., 0., 0.],\n",
              "       [0., 0., 0., ..., 1., 0., 0.],\n",
              "       [0., 0., 1., ..., 0., 0., 0.],\n",
              "       ...,\n",
              "       [0., 0., 0., ..., 1., 0., 0.],\n",
              "       [0., 0., 0., ..., 0., 0., 1.],\n",
              "       [0., 0., 1., ..., 0., 0., 0.]], dtype=float32)"
            ]
          },
          "metadata": {},
          "execution_count": 25
        }
      ],
      "source": [
        "# Write the function and appropriate variable name to one-hot encode the output\n",
        "\n",
        "y_train = to_categorical(y_train)\n",
        "\n",
        "y_test = to_categorical(y_test)\n",
        "\n",
        "# test labels\n",
        "\n",
        "y_test"
      ]
    },
    {
      "cell_type": "markdown",
      "metadata": {
        "id": "H-8jYVQTAjQH"
      },
      "source": [
        "**Observation:**\n",
        "\n",
        "Each entry of the target variable is a one-hot encoded vector instead of a single label.\n"
      ]
    },
    {
      "cell_type": "markdown",
      "metadata": {
        "id": "Vjx_LI4_AjQH"
      },
      "source": [
        "## **Model Building**\n",
        "\n",
        "Now that we have done data preprocessing, let's build a CNN model.\n",
        "Fix the seed for random number generators"
      ]
    },
    {
      "cell_type": "code",
      "execution_count": 37,
      "metadata": {
        "id": "ZY5pyF4-KDNt"
      },
      "outputs": [],
      "source": [
        "# Fixing the seed for random number generators\n",
        "\n",
        "np.random.seed(42)\n",
        "\n",
        "import random\n",
        "\n",
        "random.seed(42)\n",
        "\n",
        "tf.random.set_seed(42)"
      ]
    },
    {
      "cell_type": "markdown",
      "metadata": {
        "id": "1JUAczhzAjQH"
      },
      "source": [
        "### **Model Architecture**\n",
        "- **Write a function** that returns a sequential model with the following architecture:\n",
        " - First Convolutional layer with **16 filters and the kernel size of 3x3**. Use the **'same' padding** and provide the **input shape = (32, 32, 1)**\n",
        " - Add a **LeakyRelu layer** with the **slope equal to 0.1**\n",
        " - Second Convolutional layer with **32 filters and the kernel size of 3x3 with 'same' padding**\n",
        " - Another **LeakyRelu** with the **slope equal to 0.1**\n",
        " - A **max-pooling layer** with a **pool size of 2x2**\n",
        " - **Flatten** the output from the previous layer\n",
        " - Add a **dense layer with 32 nodes**\n",
        " - Add a **LeakyRelu layer with the slope equal to 0.1**\n",
        " - Add the final **output layer with nodes equal to the number of classes, i.e., 10** and **'softmax' as the activation function**\n",
        " - Compile the model with the **loss equal to categorical_crossentropy, optimizer equal to Adam(learning_rate = 0.001), and metric equal to 'accuracy'**. Do not fit the model here, just return the compiled model.\n",
        "- Call the function cnn_model_1 and store the output in a new variable.\n",
        "- Print the summary of the model.\n",
        "- Fit the model on the training data with a **validation split of 0.2, batch size = 32, verbose = 1, and epochs = 20**. Store the model building history to use later for visualization."
      ]
    },
    {
      "cell_type": "markdown",
      "metadata": {
        "id": "JWsAd45JKDNu"
      },
      "source": [
        "### **Build and train a CNN model as per the above mentioned architecture.**"
      ]
    },
    {
      "cell_type": "code",
      "execution_count": 38,
      "metadata": {
        "id": "L1jOYANWAjQH"
      },
      "outputs": [],
      "source": [
        "# Define the model\n",
        "\n",
        "def cnn_model_1():\n",
        "\n",
        "    model = Sequential()\n",
        "\n",
        "    # Add layers as per the architecture mentioned above in the same sequence\n",
        "\n",
        "    # First Convolutional layer\n",
        "    model.add(Conv2D(16, kernel_size=(3, 3), padding='same', input_shape=(32, 32, 1)))\n",
        "    model.add(LeakyReLU(0.1))\n",
        "\n",
        "    # Second Convolutional layer\n",
        "    model.add(Conv2D(32, kernel_size=(3, 3), padding='same'))\n",
        "    model.add(LeakyReLU(0.1))\n",
        "\n",
        "    # Max-pooling layer\n",
        "    model.add(MaxPooling2D(pool_size=(2, 2)))\n",
        "\n",
        "    # Flatten the output\n",
        "    model.add(Flatten())\n",
        "\n",
        "    # Dense layer\n",
        "    model.add(Dense(32))\n",
        "    model.add(LeakyReLU(0.1))\n",
        "\n",
        "    # Output layer\n",
        "    model.add(Dense(10, activation='softmax'))\n",
        "\n",
        "    # Compile the model\n",
        "    model.compile(loss='categorical_crossentropy', optimizer=Adam(learning_rate=0.001), metrics=['accuracy'])\n",
        "\n",
        "    return model\n"
      ]
    },
    {
      "cell_type": "code",
      "execution_count": 39,
      "metadata": {
        "id": "AAQ7Iu0QGru7"
      },
      "outputs": [],
      "source": [
        "# Build the model\n",
        "\n",
        "cnn_model_1 = cnn_model_1()"
      ]
    },
    {
      "cell_type": "code",
      "execution_count": 40,
      "metadata": {
        "colab": {
          "base_uri": "https://localhost:8080/"
        },
        "id": "JOLewWlZG9nD",
        "outputId": "afdc6361-fdfc-43c4-e00b-8f08ae3d1a71"
      },
      "outputs": [
        {
          "output_type": "stream",
          "name": "stdout",
          "text": [
            "Model: \"sequential_1\"\n",
            "_________________________________________________________________\n",
            " Layer (type)                Output Shape              Param #   \n",
            "=================================================================\n",
            " conv2d (Conv2D)             (None, 32, 32, 16)        160       \n",
            "                                                                 \n",
            " leaky_re_lu (LeakyReLU)     (None, 32, 32, 16)        0         \n",
            "                                                                 \n",
            " conv2d_1 (Conv2D)           (None, 32, 32, 32)        4640      \n",
            "                                                                 \n",
            " leaky_re_lu_1 (LeakyReLU)   (None, 32, 32, 32)        0         \n",
            "                                                                 \n",
            " max_pooling2d (MaxPooling2D  (None, 16, 16, 32)       0         \n",
            " )                                                               \n",
            "                                                                 \n",
            " flatten (Flatten)           (None, 8192)              0         \n",
            "                                                                 \n",
            " dense_6 (Dense)             (None, 32)                262176    \n",
            "                                                                 \n",
            " leaky_re_lu_2 (LeakyReLU)   (None, 32)                0         \n",
            "                                                                 \n",
            " dense_7 (Dense)             (None, 10)                330       \n",
            "                                                                 \n",
            "=================================================================\n",
            "Total params: 267,306\n",
            "Trainable params: 267,306\n",
            "Non-trainable params: 0\n",
            "_________________________________________________________________\n"
          ]
        }
      ],
      "source": [
        "# Print the model summary\n",
        "\n",
        "cnn_model_1.summary()"
      ]
    },
    {
      "cell_type": "markdown",
      "metadata": {
        "id": "JPzfIf9kKDNw"
      },
      "source": [
        "### **Plot the Training and Validation Accuracies and Write your observations.**"
      ]
    },
    {
      "cell_type": "code",
      "execution_count": 41,
      "metadata": {
        "colab": {
          "base_uri": "https://localhost:8080/"
        },
        "id": "07oUCr1kAjQH",
        "outputId": "9fc0812c-8c20-4854-d846-f1c04679b481"
      },
      "outputs": [
        {
          "output_type": "stream",
          "name": "stdout",
          "text": [
            "Epoch 1/20\n",
            "1050/1050 [==============================] - 126s 120ms/step - loss: 1.1104 - accuracy: 0.6407 - val_loss: 0.6538 - val_accuracy: 0.8092\n",
            "Epoch 2/20\n",
            "1050/1050 [==============================] - 88s 84ms/step - loss: 0.5391 - accuracy: 0.8455 - val_loss: 0.5249 - val_accuracy: 0.8460\n",
            "Epoch 3/20\n",
            "1050/1050 [==============================] - 88s 84ms/step - loss: 0.4407 - accuracy: 0.8688 - val_loss: 0.4947 - val_accuracy: 0.8617\n",
            "Epoch 4/20\n",
            "1050/1050 [==============================] - 93s 89ms/step - loss: 0.3782 - accuracy: 0.8885 - val_loss: 0.4393 - val_accuracy: 0.8782\n",
            "Epoch 5/20\n",
            "1050/1050 [==============================] - 87s 83ms/step - loss: 0.3322 - accuracy: 0.9004 - val_loss: 0.4515 - val_accuracy: 0.8745\n",
            "Epoch 6/20\n",
            "1050/1050 [==============================] - 87s 83ms/step - loss: 0.2925 - accuracy: 0.9112 - val_loss: 0.4731 - val_accuracy: 0.8692\n",
            "Epoch 7/20\n",
            "1050/1050 [==============================] - 88s 83ms/step - loss: 0.2630 - accuracy: 0.9199 - val_loss: 0.4649 - val_accuracy: 0.8715\n",
            "Epoch 8/20\n",
            "1050/1050 [==============================] - 97s 92ms/step - loss: 0.2340 - accuracy: 0.9266 - val_loss: 0.4819 - val_accuracy: 0.8717\n",
            "Epoch 9/20\n",
            "1050/1050 [==============================] - 90s 86ms/step - loss: 0.2113 - accuracy: 0.9348 - val_loss: 0.4790 - val_accuracy: 0.8781\n",
            "Epoch 10/20\n",
            "1050/1050 [==============================] - 99s 95ms/step - loss: 0.1887 - accuracy: 0.9415 - val_loss: 0.4878 - val_accuracy: 0.8776\n",
            "Epoch 11/20\n",
            "1050/1050 [==============================] - 93s 89ms/step - loss: 0.1675 - accuracy: 0.9488 - val_loss: 0.5432 - val_accuracy: 0.8758\n",
            "Epoch 12/20\n",
            "1050/1050 [==============================] - 92s 88ms/step - loss: 0.1518 - accuracy: 0.9524 - val_loss: 0.5550 - val_accuracy: 0.8735\n",
            "Epoch 13/20\n",
            "1050/1050 [==============================] - 90s 86ms/step - loss: 0.1331 - accuracy: 0.9585 - val_loss: 0.5935 - val_accuracy: 0.8680\n",
            "Epoch 14/20\n",
            "1050/1050 [==============================] - 91s 87ms/step - loss: 0.1218 - accuracy: 0.9614 - val_loss: 0.6262 - val_accuracy: 0.8656\n",
            "Epoch 15/20\n",
            "1050/1050 [==============================] - 94s 89ms/step - loss: 0.1111 - accuracy: 0.9648 - val_loss: 0.6642 - val_accuracy: 0.8670\n",
            "Epoch 16/20\n",
            "1050/1050 [==============================] - 90s 86ms/step - loss: 0.1025 - accuracy: 0.9662 - val_loss: 0.6503 - val_accuracy: 0.8720\n",
            "Epoch 17/20\n",
            "1050/1050 [==============================] - 93s 89ms/step - loss: 0.0865 - accuracy: 0.9726 - val_loss: 0.7214 - val_accuracy: 0.8676\n",
            "Epoch 18/20\n",
            "1050/1050 [==============================] - 90s 86ms/step - loss: 0.0844 - accuracy: 0.9724 - val_loss: 0.7855 - val_accuracy: 0.8623\n",
            "Epoch 19/20\n",
            "1050/1050 [==============================] - 91s 87ms/step - loss: 0.0742 - accuracy: 0.9751 - val_loss: 0.8000 - val_accuracy: 0.8692\n",
            "Epoch 20/20\n",
            "1050/1050 [==============================] - 91s 86ms/step - loss: 0.0691 - accuracy: 0.9770 - val_loss: 0.8442 - val_accuracy: 0.8639\n"
          ]
        }
      ],
      "source": [
        "# Fit the model\n",
        "\n",
        "history_cnn_model_1 = cnn_model_1.fit(\n",
        "    X_train, y_train,\n",
        "    epochs=20,\n",
        "    batch_size=32,\n",
        "    validation_split=0.2,\n",
        "    verbose=1\n",
        ")"
      ]
    },
    {
      "cell_type": "code",
      "source": [
        "# Plotting the accuracies\n",
        "\n",
        "dict_hist = history_cnn_model_1.history\n",
        "\n",
        "list_ep = [i for i in range(1, 21)]\n",
        "\n",
        "plt.figure(figsize = (8, 8))\n",
        "\n",
        "plt.plot(list_ep, dict_hist['accuracy'], ls = '--', label = 'accuracy')\n",
        "\n",
        "plt.plot(list_ep, dict_hist['val_accuracy'], ls = '--', label = 'val_accuracy')\n",
        "\n",
        "plt.ylabel('Accuracy')\n",
        "\n",
        "plt.xlabel('Epochs')\n",
        "\n",
        "plt.legend()\n",
        "\n",
        "plt.show()"
      ],
      "metadata": {
        "colab": {
          "base_uri": "https://localhost:8080/",
          "height": 696
        },
        "id": "3Z7igGGE4rOG",
        "outputId": "319ec27c-4e61-408b-e2c5-c09e7c9d9947"
      },
      "execution_count": 42,
      "outputs": [
        {
          "output_type": "display_data",
          "data": {
            "text/plain": [
              "<Figure size 800x800 with 1 Axes>"
            ],
            "image/png": "[encoded data removed]"
          },
          "metadata": {}
        }
      ]
    },
    {
      "cell_type": "markdown",
      "metadata": {
        "id": "P6zTLyp9AjQH"
      },
      "source": [
        "**Observations:__________**\n",
        "\n",
        "\n",
        "**Training Accuracy:** The training accuracy increases significantly over epochs, reaching a high of 97.7% by the 20th epoch. This suggests that the model is learning well from the training data.\n",
        "\n",
        "**Validation Accuracy:** The validation accuracy also improves but starts to plateau around 86-87% after a certain point. This could indicate that the model might be overfitting or that further improvement is challenging.\n",
        "\n",
        "**Training Loss:** The training loss decreases consistently, indicating that the model is effectively minimizing the loss on the training set.\n",
        "\n",
        "**Validation Loss:** The validation loss initially decreases but starts to increase slightly after some epochs. This behavior could be a sign of overfitting, where the model becomes too specific to the training data.\n",
        "\n",
        "**Accuracy Discrepancy:** There is a notable difference between training and validation accuracy, suggesting that the model might be overfitting. Regularization techniques or adjusting the model architecture could be explored to address this.\n",
        "\n",
        "**Epoch Time:** The time per epoch increases over time, likely due to the increasing complexity of the model and the dataset size.\n",
        "\n",
        "In summary, while the model performs well on the training set, attention should be paid to preventing overfitting, and further optimization might be explored to improve validation accuracy.\n",
        "\n",
        "\n",
        "\n",
        "\n"
      ]
    },
    {
      "cell_type": "markdown",
      "metadata": {
        "id": "Ukvtg2eMAjQH"
      },
      "source": [
        "Let's build another model and see if we can get a better model with generalized performance.\n",
        "\n",
        "First, we need to clear the previous model's history from the Keras backend. Also, let's fix the seed again after clearing the backend."
      ]
    },
    {
      "cell_type": "code",
      "execution_count": 26,
      "metadata": {
        "id": "HbKi93HTolGW"
      },
      "outputs": [],
      "source": [
        "# Clearing backend\n",
        "\n",
        "from tensorflow.keras import backend\n",
        "\n",
        "backend.clear_session()"
      ]
    },
    {
      "cell_type": "code",
      "source": [
        "# Fixing the seed for random number generators\n",
        "\n",
        "np.random.seed(42)\n",
        "\n",
        "import random\n",
        "\n",
        "random.seed(42)\n",
        "\n",
        "tf.random.set_seed(42)"
      ],
      "metadata": {
        "id": "piNuLgzQ2C53"
      },
      "execution_count": 11,
      "outputs": []
    },
    {
      "cell_type": "markdown",
      "metadata": {
        "id": "Ep19Jd8HAjQH"
      },
      "source": [
        "### **Second Model Architecture**\n",
        "\n",
        "- Write a function that returns a sequential model with the following architecture:\n",
        " - First Convolutional layer with **16 filters and the kernel size of 3x3**. Use the **'same' padding** and provide the **input shape = (32, 32, 1)**\n",
        " - Add a **LeakyRelu layer** with the **slope equal to 0.1**\n",
        " - Second Convolutional layer with **32 filters and the kernel size of 3x3 with 'same' padding**\n",
        " - Add **LeakyRelu** with the **slope equal to 0.1**\n",
        " - Add a **max-pooling layer** with a **pool size of 2x2**\n",
        " - Add a **BatchNormalization layer**\n",
        " - Third Convolutional layer with **32 filters and the kernel size of 3x3 with 'same' padding**\n",
        " - Add a **LeakyRelu layer with the slope equal to 0.1**\n",
        " - Fourth Convolutional layer **64 filters and the kernel size of 3x3 with 'same' padding**\n",
        " - Add a **LeakyRelu layer with the slope equal to 0.1**\n",
        " - Add a **max-pooling layer** with a **pool size of 2x2**\n",
        " - Add a **BatchNormalization layer**\n",
        " - **Flatten** the output from the previous layer\n",
        " - Add a **dense layer with 32 nodes**\n",
        " - Add a **LeakyRelu layer with the slope equal to 0.1**\n",
        " - Add a **dropout layer with the rate equal to 0.5**\n",
        " - Add the final **output layer with nodes equal to the number of classes, i.e., 10** and **'softmax' as the activation function**\n",
        " - Compile the model with the **categorical_crossentropy loss, adam optimizers (learning_rate = 0.001), and metric equal to 'accuracy'**. Do not fit the model here, just return the compiled model.\n",
        "- Call the function cnn_model_2 and store the model in a new variable.\n",
        "- Print the summary of the model.\n",
        "- Fit the model on the train data with a **validation split of 0.2, batch size = 128, verbose = 1, and epochs = 30**. Store the model building history to use later for visualization."
      ]
    },
    {
      "cell_type": "markdown",
      "metadata": {
        "id": "y5IBLS1eKDNy"
      },
      "source": [
        "### **Build and train the second CNN model as per the above mentioned architecture.**"
      ]
    },
    {
      "cell_type": "code",
      "execution_count": 27,
      "metadata": {
        "id": "wk9sl2UEAjQH"
      },
      "outputs": [],
      "source": [
        "def cnn_model_2():\n",
        "    model = Sequential()\n",
        "\n",
        "    # First Convolutional layer\n",
        "    model.add(Conv2D(16, (3, 3), padding='same', input_shape=(32, 32, 1)))\n",
        "    model.add(LeakyReLU(0.1))\n",
        "\n",
        "    # Second Convolutional layer\n",
        "    model.add(Conv2D(32, (3, 3), padding='same'))\n",
        "    model.add(LeakyReLU(0.1))\n",
        "    model.add(MaxPooling2D(pool_size=(2, 2)))\n",
        "    model.add(BatchNormalization())\n",
        "\n",
        "    # Third Convolutional layer\n",
        "    model.add(Conv2D(32, (3, 3), padding='same'))\n",
        "    model.add(LeakyReLU(0.1))\n",
        "\n",
        "    # Fourth Convolutional layer\n",
        "    model.add(Conv2D(64, (3, 3), padding='same'))\n",
        "    model.add(LeakyReLU(0.1))\n",
        "    model.add(MaxPooling2D(pool_size=(2, 2)))\n",
        "    model.add(BatchNormalization())\n",
        "\n",
        "    model.add(Flatten())\n",
        "\n",
        "    # Dense layer\n",
        "    model.add(Dense(32))\n",
        "    model.add(LeakyReLU(0.1))\n",
        "    model.add(Dropout(0.5))\n",
        "\n",
        "    # Output layer\n",
        "    model.add(Dense(10, activation='softmax'))\n",
        "\n",
        "    # Compile the model\n",
        "    model.compile(loss='categorical_crossentropy', optimizer=Adam(learning_rate=0.001), metrics=['accuracy'])\n",
        "\n",
        "    return model\n"
      ]
    },
    {
      "cell_type": "code",
      "source": [
        "# Build the model\n",
        "\n",
        "cnn_model_2 = cnn_model_2()"
      ],
      "metadata": {
        "id": "pLPc87tLA72P"
      },
      "execution_count": 28,
      "outputs": []
    },
    {
      "cell_type": "code",
      "source": [
        "cnn_model_2.summary()"
      ],
      "metadata": {
        "colab": {
          "base_uri": "https://localhost:8080/"
        },
        "id": "n5uFBjWIBHy2",
        "outputId": "ad257ddc-9eb7-4f12-a642-928e300602f3"
      },
      "execution_count": 29,
      "outputs": [
        {
          "output_type": "stream",
          "name": "stdout",
          "text": [
            "Model: \"sequential\"\n",
            "_________________________________________________________________\n",
            " Layer (type)                Output Shape              Param #   \n",
            "=================================================================\n",
            " conv2d (Conv2D)             (None, 32, 32, 16)        160       \n",
            "                                                                 \n",
            " leaky_re_lu (LeakyReLU)     (None, 32, 32, 16)        0         \n",
            "                                                                 \n",
            " conv2d_1 (Conv2D)           (None, 32, 32, 32)        4640      \n",
            "                                                                 \n",
            " leaky_re_lu_1 (LeakyReLU)   (None, 32, 32, 32)        0         \n",
            "                                                                 \n",
            " max_pooling2d (MaxPooling2D  (None, 16, 16, 32)       0         \n",
            " )                                                               \n",
            "                                                                 \n",
            " batch_normalization (BatchN  (None, 16, 16, 32)       128       \n",
            " ormalization)                                                   \n",
            "                                                                 \n",
            " conv2d_2 (Conv2D)           (None, 16, 16, 32)        9248      \n",
            "                                                                 \n",
            " leaky_re_lu_2 (LeakyReLU)   (None, 16, 16, 32)        0         \n",
            "                                                                 \n",
            " conv2d_3 (Conv2D)           (None, 16, 16, 64)        18496     \n",
            "                                                                 \n",
            " leaky_re_lu_3 (LeakyReLU)   (None, 16, 16, 64)        0         \n",
            "                                                                 \n",
            " max_pooling2d_1 (MaxPooling  (None, 8, 8, 64)         0         \n",
            " 2D)                                                             \n",
            "                                                                 \n",
            " batch_normalization_1 (Batc  (None, 8, 8, 64)         256       \n",
            " hNormalization)                                                 \n",
            "                                                                 \n",
            " flatten (Flatten)           (None, 4096)              0         \n",
            "                                                                 \n",
            " dense (Dense)               (None, 32)                131104    \n",
            "                                                                 \n",
            " leaky_re_lu_4 (LeakyReLU)   (None, 32)                0         \n",
            "                                                                 \n",
            " dropout (Dropout)           (None, 32)                0         \n",
            "                                                                 \n",
            " dense_1 (Dense)             (None, 10)                330       \n",
            "                                                                 \n",
            "=================================================================\n",
            "Total params: 164,362\n",
            "Trainable params: 164,170\n",
            "Non-trainable params: 192\n",
            "_________________________________________________________________\n"
          ]
        }
      ]
    },
    {
      "cell_type": "code",
      "source": [
        "\n",
        "# Fit the model\n",
        "history_cnn_model_2 = cnn_model_2.fit(X_train, y_train,\n",
        "                    validation_split=0.2,\n",
        "                    batch_size=128,\n",
        "                    epochs=30,\n",
        "                    verbose=1)\n",
        "\n",
        "# Store the model building history\n",
        "model_history = history_cnn_model_2.history"
      ],
      "metadata": {
        "colab": {
          "base_uri": "https://localhost:8080/"
        },
        "id": "vy-vr-hjBYSX",
        "outputId": "5e4abc28-8c37-4acd-8690-d81ed73362af"
      },
      "execution_count": 30,
      "outputs": [
        {
          "output_type": "stream",
          "name": "stdout",
          "text": [
            "Epoch 1/30\n",
            "263/263 [==============================] - 153s 577ms/step - loss: 1.4026 - accuracy: 0.5232 - val_loss: 1.9002 - val_accuracy: 0.4649\n",
            "Epoch 2/30\n",
            "263/263 [==============================] - 146s 556ms/step - loss: 0.6743 - accuracy: 0.7939 - val_loss: 0.6427 - val_accuracy: 0.8110\n",
            "Epoch 3/30\n",
            "263/263 [==============================] - 150s 570ms/step - loss: 0.5440 - accuracy: 0.8352 - val_loss: 0.4416 - val_accuracy: 0.8723\n",
            "Epoch 4/30\n",
            "263/263 [==============================] - 155s 591ms/step - loss: 0.4931 - accuracy: 0.8492 - val_loss: 0.4524 - val_accuracy: 0.8671\n",
            "Epoch 5/30\n",
            "263/263 [==============================] - 148s 565ms/step - loss: 0.4391 - accuracy: 0.8679 - val_loss: 0.3852 - val_accuracy: 0.8894\n",
            "Epoch 6/30\n",
            "263/263 [==============================] - 149s 567ms/step - loss: 0.4086 - accuracy: 0.8753 - val_loss: 0.3845 - val_accuracy: 0.8901\n",
            "Epoch 7/30\n",
            "263/263 [==============================] - 148s 562ms/step - loss: 0.3786 - accuracy: 0.8856 - val_loss: 0.4205 - val_accuracy: 0.8879\n",
            "Epoch 8/30\n",
            "263/263 [==============================] - 150s 572ms/step - loss: 0.3481 - accuracy: 0.8919 - val_loss: 0.3579 - val_accuracy: 0.9011\n",
            "Epoch 9/30\n",
            "263/263 [==============================] - 150s 571ms/step - loss: 0.3303 - accuracy: 0.8983 - val_loss: 0.3804 - val_accuracy: 0.8951\n",
            "Epoch 10/30\n",
            "263/263 [==============================] - 151s 576ms/step - loss: 0.3154 - accuracy: 0.9024 - val_loss: 0.4334 - val_accuracy: 0.8789\n",
            "Epoch 11/30\n",
            "263/263 [==============================] - 149s 566ms/step - loss: 0.3016 - accuracy: 0.9066 - val_loss: 0.3734 - val_accuracy: 0.8981\n",
            "Epoch 12/30\n",
            "263/263 [==============================] - 149s 567ms/step - loss: 0.2802 - accuracy: 0.9128 - val_loss: 0.3813 - val_accuracy: 0.8977\n",
            "Epoch 13/30\n",
            "263/263 [==============================] - 152s 579ms/step - loss: 0.2699 - accuracy: 0.9138 - val_loss: 0.3881 - val_accuracy: 0.9021\n",
            "Epoch 14/30\n",
            "263/263 [==============================] - 148s 564ms/step - loss: 0.2610 - accuracy: 0.9162 - val_loss: 0.4167 - val_accuracy: 0.8933\n",
            "Epoch 15/30\n",
            "263/263 [==============================] - 150s 571ms/step - loss: 0.2455 - accuracy: 0.9216 - val_loss: 0.3809 - val_accuracy: 0.9067\n",
            "Epoch 16/30\n",
            "263/263 [==============================] - 152s 578ms/step - loss: 0.2370 - accuracy: 0.9253 - val_loss: 0.3621 - val_accuracy: 0.9118\n",
            "Epoch 17/30\n",
            "263/263 [==============================] - 151s 575ms/step - loss: 0.2267 - accuracy: 0.9262 - val_loss: 0.3858 - val_accuracy: 0.9013\n",
            "Epoch 18/30\n",
            "263/263 [==============================] - 149s 567ms/step - loss: 0.2151 - accuracy: 0.9302 - val_loss: 0.3964 - val_accuracy: 0.9026\n",
            "Epoch 19/30\n",
            "263/263 [==============================] - 151s 574ms/step - loss: 0.2094 - accuracy: 0.9316 - val_loss: 0.4443 - val_accuracy: 0.9012\n",
            "Epoch 20/30\n",
            "263/263 [==============================] - 151s 576ms/step - loss: 0.2013 - accuracy: 0.9348 - val_loss: 0.4035 - val_accuracy: 0.9093\n",
            "Epoch 21/30\n",
            "263/263 [==============================] - 153s 580ms/step - loss: 0.2019 - accuracy: 0.9346 - val_loss: 0.3912 - val_accuracy: 0.9085\n",
            "Epoch 22/30\n",
            "263/263 [==============================] - 152s 576ms/step - loss: 0.1888 - accuracy: 0.9367 - val_loss: 0.4180 - val_accuracy: 0.9089\n",
            "Epoch 23/30\n",
            "263/263 [==============================] - 152s 579ms/step - loss: 0.1892 - accuracy: 0.9390 - val_loss: 0.4447 - val_accuracy: 0.9039\n",
            "Epoch 24/30\n",
            "263/263 [==============================] - 152s 577ms/step - loss: 0.1864 - accuracy: 0.9397 - val_loss: 0.4433 - val_accuracy: 0.9006\n",
            "Epoch 25/30\n",
            "263/263 [==============================] - 152s 577ms/step - loss: 0.1803 - accuracy: 0.9404 - val_loss: 0.4333 - val_accuracy: 0.9076\n",
            "Epoch 26/30\n",
            "263/263 [==============================] - 151s 575ms/step - loss: 0.1750 - accuracy: 0.9423 - val_loss: 0.4385 - val_accuracy: 0.8996\n",
            "Epoch 27/30\n",
            "263/263 [==============================] - 151s 575ms/step - loss: 0.1604 - accuracy: 0.9464 - val_loss: 0.5710 - val_accuracy: 0.8902\n",
            "Epoch 28/30\n",
            "263/263 [==============================] - 151s 572ms/step - loss: 0.1579 - accuracy: 0.9460 - val_loss: 0.5114 - val_accuracy: 0.8888\n",
            "Epoch 29/30\n",
            "263/263 [==============================] - 150s 572ms/step - loss: 0.1650 - accuracy: 0.9449 - val_loss: 0.4796 - val_accuracy: 0.9062\n",
            "Epoch 30/30\n",
            "263/263 [==============================] - 150s 573ms/step - loss: 0.1558 - accuracy: 0.9494 - val_loss: 0.4348 - val_accuracy: 0.9058\n"
          ]
        }
      ]
    },
    {
      "cell_type": "markdown",
      "metadata": {
        "id": "PyhUtMy3KDN1"
      },
      "source": [
        "### **Plot the Training and Validation accuracies and write your observations.**"
      ]
    },
    {
      "cell_type": "code",
      "execution_count": 31,
      "metadata": {
        "id": "YVQu7uWiAjQH",
        "colab": {
          "base_uri": "https://localhost:8080/",
          "height": 696
        },
        "outputId": "f7258620-085d-4cad-8cd7-636c719f7e28"
      },
      "outputs": [
        {
          "output_type": "display_data",
          "data": {
            "text/plain": [
              "<Figure size 800x800 with 1 Axes>"
            ],
            "image/png": "[encoded data removed]"
          },
          "metadata": {}
        }
      ],
      "source": [
        "# Plotting the accuracies\n",
        "\n",
        "dict_hist = history_cnn_model_2.history\n",
        "\n",
        "list_ep = [i for i in range(1, 31)]\n",
        "\n",
        "plt.figure(figsize = (8, 8))\n",
        "\n",
        "plt.plot(list_ep, dict_hist['accuracy'], ls = '--', label = 'accuracy')\n",
        "\n",
        "plt.plot(list_ep, dict_hist['val_accuracy'], ls = '--', label = 'val_accuracy')\n",
        "\n",
        "plt.ylabel('Accuracy')\n",
        "\n",
        "plt.xlabel('Epochs')\n",
        "\n",
        "plt.legend()\n",
        "\n",
        "plt.show()"
      ]
    },
    {
      "cell_type": "markdown",
      "metadata": {
        "id": "Qrrt0Ac3AjQH"
      },
      "source": [
        "**Observations:________**\n",
        "\n",
        "Loss and Accuracy Trends:\n",
        "\n",
        "Both training and validation loss decrease over epochs, indicating that the model is learning and improving its predictions.\n",
        "Training and validation accuracy increases over epochs, suggesting that the model is getting better at classifying the data correctly.\n",
        "Overfitting:\n",
        "\n",
        "Initially, the training accuracy is lower than the validation accuracy, indicating that the model is underfitting.\n",
        "As training progresses, the training accuracy surpasses the validation accuracy, which could indicate overfitting. However, the performance on the validation set remains relatively stable, suggesting that overfitting might not be severe.\n",
        "Training Stability:\n",
        "\n",
        "The training and validation loss both decrease steadily over epochs without significant fluctuations, indicating a stable training process.\n",
        "Similarly, the accuracy curves show consistent improvement without sudden jumps or drops, indicating a smooth learning process.\n",
        "Convergence:\n",
        "\n",
        "The model seems to be converging well, as indicated by the diminishing returns in improvement after a certain number of epochs.\n",
        "The validation accuracy plateaus after around 20 epochs, suggesting that further training might not lead to significant improvements.\n",
        "Final Performance:\n",
        "\n",
        "At the end of training, the model achieves a high validation accuracy of approximately 90.6%, indicating that it can generalize well to unseen data.\n",
        "The final training accuracy is higher, around 94.9%, suggesting that the model might still have some capacity to learn from the training data.\n"
      ]
    },
    {
      "cell_type": "markdown",
      "metadata": {
        "id": "kja4SnOdAjQI"
      },
      "source": [
        "## **Predictions on the test data**\n",
        "\n",
        "- Make predictions on the test set using the second model.\n",
        "- Print the obtained results using the classification report and the confusion matrix.\n",
        "- Final observations on the obtained results."
      ]
    },
    {
      "cell_type": "markdown",
      "metadata": {
        "id": "eHCRwRbgKDN2"
      },
      "source": [
        "### **Make predictions on the test data using the second model.**"
      ]
    },
    {
      "cell_type": "code",
      "execution_count": 32,
      "metadata": {
        "id": "f1d-VvaLAjQI",
        "colab": {
          "base_uri": "https://localhost:8080/"
        },
        "outputId": "5a46ece5-d726-431f-bd3b-46e4a1b86194"
      },
      "outputs": [
        {
          "output_type": "stream",
          "name": "stdout",
          "text": [
            "563/563 [==============================] - 21s 36ms/step\n"
          ]
        }
      ],
      "source": [
        "# Make prediction on the test data using model_2\n",
        "\n",
        "test_pred = cnn_model_2.predict(X_test)\n",
        "\n",
        "test_pred = np.argmax(test_pred, axis = -1)"
      ]
    },
    {
      "cell_type": "markdown",
      "metadata": {
        "id": "DrV1tOG0AjQI"
      },
      "source": [
        "**Note:** Earlier, we noticed that each entry of the target variable is a one-hot encoded vector, but to print the classification report and confusion matrix, we must convert each entry of y_test to a single label."
      ]
    },
    {
      "cell_type": "code",
      "execution_count": 33,
      "metadata": {
        "id": "dUSHU9W0AjQI"
      },
      "outputs": [],
      "source": [
        "# Converting each entry to single label from one-hot encoded vector\n",
        "\n",
        "y_test = np.argmax(y_test, axis = -1)"
      ]
    },
    {
      "cell_type": "code",
      "source": [
        "# Importing required functions\n",
        "\n",
        "from sklearn.metrics import classification_report\n",
        "\n",
        "from sklearn.metrics import confusion_matrix\n",
        "\n",
        "# Printing the classification report\n",
        "\n",
        "print(classification_report(y_test, test_pred))\n",
        "\n",
        "# Plotting the heatmap using confusion matrix\n",
        "\n",
        "cm = confusion_matrix(y_test, test_pred)\n",
        "\n",
        "plt.figure(figsize = (8, 5))\n",
        "\n",
        "sns.heatmap(cm, annot = True,  fmt = '.0f')\n",
        "\n",
        "plt.ylabel('Actual')\n",
        "\n",
        "plt.xlabel('Predicted')\n",
        "\n",
        "plt.show()"
      ],
      "metadata": {
        "colab": {
          "base_uri": "https://localhost:8080/",
          "height": 754
        },
        "id": "oaCauPwFcDoa",
        "outputId": "92c83ebf-f2ef-4a71-b34b-00c182d5bbbb"
      },
      "execution_count": 34,
      "outputs": [
        {
          "output_type": "stream",
          "name": "stdout",
          "text": [
            "              precision    recall  f1-score   support\n",
            "\n",
            "           0       0.95      0.91      0.93      1814\n",
            "           1       0.90      0.91      0.91      1828\n",
            "           2       0.90      0.92      0.91      1803\n",
            "           3       0.88      0.89      0.89      1719\n",
            "           4       0.93      0.93      0.93      1812\n",
            "           5       0.92      0.90      0.91      1768\n",
            "           6       0.89      0.90      0.90      1832\n",
            "           7       0.93      0.92      0.93      1808\n",
            "           8       0.88      0.90      0.89      1812\n",
            "           9       0.91      0.90      0.91      1804\n",
            "\n",
            "    accuracy                           0.91     18000\n",
            "   macro avg       0.91      0.91      0.91     18000\n",
            "weighted avg       0.91      0.91      0.91     18000\n",
            "\n"
          ]
        },
        {
          "output_type": "display_data",
          "data": {
            "text/plain": [
              "<Figure size 800x500 with 2 Axes>"
            ],
            "image/png": "[encoded data removed]"
          },
          "metadata": {}
        }
      ]
    },
    {
      "cell_type": "markdown",
      "metadata": {
        "id": "aVCa-ysWKDN3"
      },
      "source": [
        "### **Write your final observations on the performance of the model on the test data.**"
      ]
    },
    {
      "cell_type": "code",
      "execution_count": 42,
      "metadata": {
        "id": "sOMq2rCJAjQJ"
      },
      "outputs": [],
      "source": []
    },
    {
      "cell_type": "markdown",
      "metadata": {
        "id": "TNN9v713AjQJ"
      },
      "source": [
        "**Final Observations:_________**\n",
        "\n",
        "**Precision, Recall, and F1-Score:**\n",
        "\n",
        "Overall, the model achieves high precision, recall, and F1-score across all classes, with values ranging from 0.88 to 0.95.\n",
        "Class 0 has the lowest precision, recall, and F1-score, indicating that it might be the most challenging class for the model to classify accurately.\n",
        "Classes 1, 4, and 7 exhibit high precision, recall, and F1-scores, suggesting that the model performs exceptionally well in identifying these classes.\n",
        "Accuracy:\n",
        "\n",
        "The overall accuracy of the model is 91%, indicating that it correctly predicts the class labels for 91% of the instances in the test set.\n",
        "This high accuracy demonstrates the effectiveness of the model in making correct predictions across all classes.\n",
        "Weighted Average vs. Macro Average:\n",
        "\n",
        "The weighted average metrics consider class imbalances by weighting each class's contribution based on its support (the number of instances).\n",
        "The macro average computes the metric independently for each class and then takes the average, giving equal weight to each class regardless of its support.\n",
        "In this case, both weighted average and macro average metrics are equal, indicating that the dataset is balanced, and each class contributes equally to the overall performance.\n",
        "Model Generalization:\n",
        "\n",
        "The high precision, recall, and F1-scores, along with the accuracy, suggest that the model generalizes well to unseen data.\n",
        "The consistent performance across all classes indicates that the model can effectively discriminate between different categories.\n",
        "\n",
        "In summary, the model demonstrates strong performance metrics, indicating its effectiveness in accurately classifying instances across all classes. However, further analysis, such as investigating misclassified instances or exploring additional evaluation metrics, could provide deeper insights into the model's behavior and potential areas for improvement.\n",
        "\n",
        "\n",
        "\n",
        "\n",
        "\n"
      ]
    }
  ],
  "metadata": {
    "accelerator": "TPU",
    "colab": {
      "provenance": []
    },
    "kernelspec": {
      "display_name": "Python 3 (ipykernel)",
      "language": "python",
      "name": "python3"
    },
    "language_info": {
      "codemirror_mode": {
        "name": "ipython",
        "version": 3
      },
      "file_extension": ".py",
      "mimetype": "text/x-python",
      "name": "python",
      "nbconvert_exporter": "python",
      "pygments_lexer": "ipython3",
      "version": "3.9.7"
    }
  },
  "nbformat": 4,
  "nbformat_minor": 0
}